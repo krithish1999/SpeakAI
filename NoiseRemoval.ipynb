{
 "cells": [
  {
   "cell_type": "code",
   "execution_count": null,
   "metadata": {},
   "outputs": [],
   "source": [
    "# import sox\n",
    "#Please change the paths accordingly\n",
    "import subprocess\n",
    "import os\n",
    "from pydub import AudioSegment\n",
    "import os\n",
    "from os import listdir\n",
    "from os.path import isfile, join\n",
    "count=0\n",
    "AudioSegment.converter = r\"ffmpeg\"\n",
    "for i in range(5):\n",
    "    file = os.listdir(r'''/home/fractaluser/Desktop/testing backgrou/audio{}'''.format(i))\n",
    "    if not os.path.exists(r'''/home/fractaluser/Desktop/testing backgrou/speaker{}'''.format(i)):\n",
    "        os.makedirs(r'''/home/fractaluser/Desktop/testing backgrou/speaker{}'''.format(i))\n",
    "    for f in file:\n",
    "        print(f)\n",
    "        cmdstring = 'ffmpeg -i \"{}\" -vn -ss 00:00:00 -t 00:00:0.5 \"{}\"'.format(r'''/home/fractaluser/Desktop/testing backgrou/audio{}/{}'''.format(i, f), r'''/home/fractaluser/Desktop/testing backgrou/speaker{}/{}.wav'''.format(i, count))\n",
    "        subprocess.call(cmdstring, shell=True)\n",
    "        cmdstring = 'sox \"{}\" -n noiseprof \"{}\"'.format(r'''/home/fractaluser/Desktop/testing backgrou/speaker{}/{}.wav'''.format(i, count), r'''/home/fractaluser/Desktop/testing backgrou/speaker{}/noise_profile_file{}'''.format(i, count))\n",
    "        subprocess.call(cmdstring, shell=True)\n",
    "        cmdstring = 'sox \"{}\" \"{}\" noisered \"{}\" 0.24'.format(r'''/home/fractaluser/Desktop/testing backgrou/audio{}/{}'''.format(i, f), r'''/home/fractaluser/Desktop/testing backgrou/speaker{}/{}.mp3'''.format(i, count),r'''/home/fractaluser/Desktop/testing backgrou/speaker{}/noise_profile_file{}'''.format(i, count))\n",
    "        subprocess.call(cmdstring, shell=True)\n",
    "    count=count+1\n",
    "        "
   ]
  }
 ],
 "metadata": {
  "kernelspec": {
   "display_name": "Python 2",
   "language": "python",
   "name": "python2"
  },
  "language_info": {
   "codemirror_mode": {
    "name": "ipython",
    "version": 2
   },
   "file_extension": ".py",
   "mimetype": "text/x-python",
   "name": "python",
   "nbconvert_exporter": "python",
   "pygments_lexer": "ipython2",
   "version": "2.7.12"
  }
 },
 "nbformat": 4,
 "nbformat_minor": 2
}
