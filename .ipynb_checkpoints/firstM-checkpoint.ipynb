{
 "cells": [
  {
   "cell_type": "code",
   "execution_count": 7,
   "metadata": {},
   "outputs": [],
   "source": [
    "from zipfile import ZipFile\n",
    "#Make Sure that all the zip files are in succesive order audio0.zip , audio1.zip , audio2.zip \n",
    "#change the range(10) if it contains 10 zip files(10 speakers)\n",
    "for i in range(2):\n",
    "    zipTest = ZipFile(r'''/home/fractaluser/Desktop/test/voice-classification-master/audioInputs2/audio{}.zip'''.format(i), 'r')\n",
    "    zipTest.extractall(r'''/home/fractaluser/Desktop/test/voice-classification-master/audioInputs2/audio{}'''.format(i))"
   ]
  },
  {
   "cell_type": "code",
   "execution_count": 8,
   "metadata": {},
   "outputs": [],
   "source": [
    "from pydub import AudioSegment\n",
    "import os\n",
    "from os import listdir\n",
    "from os.path import isfile, join"
   ]
  },
  {
   "cell_type": "code",
   "execution_count": 10,
   "metadata": {},
   "outputs": [
    {
     "ename": "CouldntDecodeError",
     "evalue": "Decoding failed. ffmpeg returned error code: 1\n\nOutput from ffmpeg/avlib:\n\nffmpeg version 2.8.14-0ubuntu0.16.04.1 Copyright (c) 2000-2018 the FFmpeg developers\n  built with gcc 5.4.0 (Ubuntu 5.4.0-6ubuntu1~16.04.9) 20160609\n  configuration: --prefix=/usr --extra-version=0ubuntu0.16.04.1 --build-suffix=-ffmpeg --toolchain=hardened --libdir=/usr/lib/x86_64-linux-gnu --incdir=/usr/include/x86_64-linux-gnu --cc=cc --cxx=g++ --enable-gpl --enable-shared --disable-stripping --disable-decoder=libopenjpeg --disable-decoder=libschroedinger --enable-avresample --enable-avisynth --enable-gnutls --enable-ladspa --enable-libass --enable-libbluray --enable-libbs2b --enable-libcaca --enable-libcdio --enable-libflite --enable-libfontconfig --enable-libfreetype --enable-libfribidi --enable-libgme --enable-libgsm --enable-libmodplug --enable-libmp3lame --enable-libopenjpeg --enable-libopus --enable-libpulse --enable-librtmp --enable-libschroedinger --enable-libshine --enable-libsnappy --enable-libsoxr --enable-libspeex --enable-libssh --enable-libtheora --enable-libtwolame --enable-libvorbis --enable-libvpx --enable-libwavpack --enable-libwebp --enable-libx265 --enable-libxvid --enable-libzvbi --enable-openal --enable-opengl --enable-x11grab --enable-libdc1394 --enable-libiec61883 --enable-libzmq --enable-frei0r --enable-libx264 --enable-libopencv\n  libavutil      54. 31.100 / 54. 31.100\n  libavcodec     56. 60.100 / 56. 60.100\n  libavformat    56. 40.101 / 56. 40.101\n  libavdevice    56.  4.100 / 56.  4.100\n  libavfilter     5. 40.101 /  5. 40.101\n  libavresample   2.  1.  0 /  2.  1.  0\n  libswscale      3.  1.101 /  3.  1.101\n  libswresample   1.  2.101 /  1.  2.101\n  libpostproc    53.  3.100 / 53.  3.100\n[mp3 @ 0x8ab4c0] Header missing\n    Last message repeated 19 times\n[mp3 @ 0x8a24c0] decoding for stream 0 failed\n[mp3 @ 0x8a24c0] Could not find codec parameters for stream 0 (Audio: mp3, 0 channels, s16p): unspecified frame size\nConsider increasing the value for the 'analyzeduration' and 'probesize' options\n/home/fractaluser/Desktop/SpeakAI/data/train/audio0/speaker00.mp3: could not find codec parameters\nInput #0, mp3, from '/home/fractaluser/Desktop/SpeakAI/data/train/audio0/speaker00.mp3':\n  Duration: N/A, start: 0.000000, bitrate: N/A\n    Stream #0:0: Audio: mp3, 0 channels, s16p\n[abuffer @ 0x8c6b20] Value inf for parameter 'time_base' out of range [0 - 2.14748e+09]\n    Last message repeated 3 times\n[abuffer @ 0x8c6b20] Error setting option time_base to value 1/0.\n[graph 0 input from stream 0:0 @ 0x8c5680] Error applying options to the filter.\nError opening filters!\n",
     "output_type": "error",
     "traceback": [
      "\u001b[0;31m---------------------------------------------------------------------------\u001b[0m",
      "\u001b[0;31mCouldntDecodeError\u001b[0m                        Traceback (most recent call last)",
      "\u001b[0;32m<ipython-input-10-75c974ccb39b>\u001b[0m in \u001b[0;36m<module>\u001b[0;34m()\u001b[0m\n\u001b[1;32m     17\u001b[0m     \u001b[0;32mfor\u001b[0m \u001b[0mf\u001b[0m \u001b[0;32min\u001b[0m \u001b[0mfiles\u001b[0m\u001b[0;34m:\u001b[0m\u001b[0;34m\u001b[0m\u001b[0m\n\u001b[1;32m     18\u001b[0m         \u001b[0;32mif\u001b[0m\u001b[0;34m(\u001b[0m\u001b[0mlimit\u001b[0m \u001b[0;34m==\u001b[0m \u001b[0;36m720\u001b[0m\u001b[0;34m)\u001b[0m\u001b[0;34m:\u001b[0m \u001b[0;32mbreak\u001b[0m\u001b[0;34m\u001b[0m\u001b[0m\n\u001b[0;32m---> 19\u001b[0;31m         \u001b[0msound\u001b[0m \u001b[0;34m=\u001b[0m \u001b[0mAudioSegment\u001b[0m\u001b[0;34m.\u001b[0m\u001b[0mfrom_mp3\u001b[0m\u001b[0;34m(\u001b[0m\u001b[0;34mr'''/home/fractaluser/Desktop/SpeakAI/data/train/audio{}/{}'''\u001b[0m\u001b[0;34m.\u001b[0m\u001b[0mformat\u001b[0m\u001b[0;34m(\u001b[0m\u001b[0mi\u001b[0m\u001b[0;34m,\u001b[0m \u001b[0mf\u001b[0m\u001b[0;34m)\u001b[0m\u001b[0;34m)\u001b[0m\u001b[0;34m\u001b[0m\u001b[0m\n\u001b[0m\u001b[1;32m     20\u001b[0m         \u001b[0mout_f\u001b[0m \u001b[0;34m=\u001b[0m \u001b[0msound\u001b[0m\u001b[0;34m.\u001b[0m\u001b[0mexport\u001b[0m\u001b[0;34m(\u001b[0m\u001b[0;34mr'''/home/fractaluser/Desktop/SpeakAI/data/train/wav{}/{}.wav'''\u001b[0m\u001b[0;34m.\u001b[0m\u001b[0mformat\u001b[0m\u001b[0;34m(\u001b[0m\u001b[0mi\u001b[0m\u001b[0;34m,\u001b[0m \u001b[0mcount\u001b[0m\u001b[0;34m)\u001b[0m\u001b[0;34m,\u001b[0m \u001b[0mformat\u001b[0m\u001b[0;34m=\u001b[0m\u001b[0;34m\"wav\"\u001b[0m\u001b[0;34m)\u001b[0m\u001b[0;34m\u001b[0m\u001b[0m\n\u001b[1;32m     21\u001b[0m         \u001b[0mout_f\u001b[0m\u001b[0;34m.\u001b[0m\u001b[0mclose\u001b[0m\u001b[0;34m(\u001b[0m\u001b[0;34m)\u001b[0m\u001b[0;34m\u001b[0m\u001b[0m\n",
      "\u001b[0;32m/usr/local/lib/python2.7/dist-packages/pydub/audio_segment.pyc\u001b[0m in \u001b[0;36mfrom_mp3\u001b[0;34m(cls, file, parameters)\u001b[0m\n\u001b[1;32m    705\u001b[0m     \u001b[0;34m@\u001b[0m\u001b[0mclassmethod\u001b[0m\u001b[0;34m\u001b[0m\u001b[0m\n\u001b[1;32m    706\u001b[0m     \u001b[0;32mdef\u001b[0m \u001b[0mfrom_mp3\u001b[0m\u001b[0;34m(\u001b[0m\u001b[0mcls\u001b[0m\u001b[0;34m,\u001b[0m \u001b[0mfile\u001b[0m\u001b[0;34m,\u001b[0m \u001b[0mparameters\u001b[0m\u001b[0;34m=\u001b[0m\u001b[0mNone\u001b[0m\u001b[0;34m)\u001b[0m\u001b[0;34m:\u001b[0m\u001b[0;34m\u001b[0m\u001b[0m\n\u001b[0;32m--> 707\u001b[0;31m         \u001b[0;32mreturn\u001b[0m \u001b[0mcls\u001b[0m\u001b[0;34m.\u001b[0m\u001b[0mfrom_file\u001b[0m\u001b[0;34m(\u001b[0m\u001b[0mfile\u001b[0m\u001b[0;34m,\u001b[0m \u001b[0;34m'mp3'\u001b[0m\u001b[0;34m,\u001b[0m \u001b[0mparameters\u001b[0m\u001b[0;34m)\u001b[0m\u001b[0;34m\u001b[0m\u001b[0m\n\u001b[0m\u001b[1;32m    708\u001b[0m \u001b[0;34m\u001b[0m\u001b[0m\n\u001b[1;32m    709\u001b[0m     \u001b[0;34m@\u001b[0m\u001b[0mclassmethod\u001b[0m\u001b[0;34m\u001b[0m\u001b[0m\n",
      "\u001b[0;32m/usr/local/lib/python2.7/dist-packages/pydub/audio_segment.pyc\u001b[0m in \u001b[0;36mfrom_file\u001b[0;34m(cls, file, format, codec, parameters, **kwargs)\u001b[0m\n\u001b[1;32m    693\u001b[0m             raise CouldntDecodeError(\n\u001b[1;32m    694\u001b[0m                 \"Decoding failed. ffmpeg returned error code: {0}\\n\\nOutput from ffmpeg/avlib:\\n\\n{1}\".format(\n\u001b[0;32m--> 695\u001b[0;31m                     p.returncode, p_err))\n\u001b[0m\u001b[1;32m    696\u001b[0m \u001b[0;34m\u001b[0m\u001b[0m\n\u001b[1;32m    697\u001b[0m         \u001b[0mp_out\u001b[0m \u001b[0;34m=\u001b[0m \u001b[0mbytearray\u001b[0m\u001b[0;34m(\u001b[0m\u001b[0mp_out\u001b[0m\u001b[0;34m)\u001b[0m\u001b[0;34m\u001b[0m\u001b[0m\n",
      "\u001b[0;31mCouldntDecodeError\u001b[0m: Decoding failed. ffmpeg returned error code: 1\n\nOutput from ffmpeg/avlib:\n\nffmpeg version 2.8.14-0ubuntu0.16.04.1 Copyright (c) 2000-2018 the FFmpeg developers\n  built with gcc 5.4.0 (Ubuntu 5.4.0-6ubuntu1~16.04.9) 20160609\n  configuration: --prefix=/usr --extra-version=0ubuntu0.16.04.1 --build-suffix=-ffmpeg --toolchain=hardened --libdir=/usr/lib/x86_64-linux-gnu --incdir=/usr/include/x86_64-linux-gnu --cc=cc --cxx=g++ --enable-gpl --enable-shared --disable-stripping --disable-decoder=libopenjpeg --disable-decoder=libschroedinger --enable-avresample --enable-avisynth --enable-gnutls --enable-ladspa --enable-libass --enable-libbluray --enable-libbs2b --enable-libcaca --enable-libcdio --enable-libflite --enable-libfontconfig --enable-libfreetype --enable-libfribidi --enable-libgme --enable-libgsm --enable-libmodplug --enable-libmp3lame --enable-libopenjpeg --enable-libopus --enable-libpulse --enable-librtmp --enable-libschroedinger --enable-libshine --enable-libsnappy --enable-libsoxr --enable-libspeex --enable-libssh --enable-libtheora --enable-libtwolame --enable-libvorbis --enable-libvpx --enable-libwavpack --enable-libwebp --enable-libx265 --enable-libxvid --enable-libzvbi --enable-openal --enable-opengl --enable-x11grab --enable-libdc1394 --enable-libiec61883 --enable-libzmq --enable-frei0r --enable-libx264 --enable-libopencv\n  libavutil      54. 31.100 / 54. 31.100\n  libavcodec     56. 60.100 / 56. 60.100\n  libavformat    56. 40.101 / 56. 40.101\n  libavdevice    56.  4.100 / 56.  4.100\n  libavfilter     5. 40.101 /  5. 40.101\n  libavresample   2.  1.  0 /  2.  1.  0\n  libswscale      3.  1.101 /  3.  1.101\n  libswresample   1.  2.101 /  1.  2.101\n  libpostproc    53.  3.100 / 53.  3.100\n[mp3 @ 0x8ab4c0] Header missing\n    Last message repeated 19 times\n[mp3 @ 0x8a24c0] decoding for stream 0 failed\n[mp3 @ 0x8a24c0] Could not find codec parameters for stream 0 (Audio: mp3, 0 channels, s16p): unspecified frame size\nConsider increasing the value for the 'analyzeduration' and 'probesize' options\n/home/fractaluser/Desktop/SpeakAI/data/train/audio0/speaker00.mp3: could not find codec parameters\nInput #0, mp3, from '/home/fractaluser/Desktop/SpeakAI/data/train/audio0/speaker00.mp3':\n  Duration: N/A, start: 0.000000, bitrate: N/A\n    Stream #0:0: Audio: mp3, 0 channels, s16p\n[abuffer @ 0x8c6b20] Value inf for parameter 'time_base' out of range [0 - 2.14748e+09]\n    Last message repeated 3 times\n[abuffer @ 0x8c6b20] Error setting option time_base to value 1/0.\n[graph 0 input from stream 0:0 @ 0x8c5680] Error applying options to the filter.\nError opening filters!\n"
     ]
    }
   ],
   "source": [
    "#Conversion of mp3 to wav File\n",
    "from pydub import AudioSegment\n",
    "import os\n",
    "from os import listdir\n",
    "from os.path import isfile, join\n",
    "\n",
    "AudioSegment.converter = r\"ffmpeg\"#r\"/usr/local/lib/python2.7/dist-packages/tensorflow/contrib/ffmpeg\"\n",
    "#change the range(10)\n",
    "for i in range(7):\n",
    "    files = os.listdir(r'''/home/fractaluser/Desktop/SpeakAI/data/train/audio{}'''.format(i))\n",
    "    \n",
    "    if not os.path.exists(r'''/home/fractaluser/Desktop/SpeakAI/data/train/wav{}'''.format(i)):\n",
    "        os.makedirs(r'''/home/fractaluser/Desktop/SpeakAI/data/train/wav{}'''.format(i))\n",
    "    \n",
    "    count = 1\n",
    "    limit = 0\n",
    "    for f in files:\n",
    "        if(limit == 720): break\n",
    "        sound = AudioSegment.from_mp4(r'''/home/fractaluser/Desktop/SpeakAI/data/train/audio{}/{}'''.format(i, f))\n",
    "        out_f = sound.export(r'''/home/fractaluser/Desktop/SpeakAI/data/train/wav{}/{}.wav'''.format(i, count), format=\"wav\")\n",
    "        out_f.close()\n",
    "        count = count + 1\n",
    "        limit = limit + 1"
   ]
  },
  {
   "cell_type": "code",
   "execution_count": 3,
   "metadata": {},
   "outputs": [],
   "source": [
    "#Cutting down the .wav file(multiple wav files per directory) to 5 seconds interval\n",
    "import subprocess\n",
    "#change the range(10)\n",
    "for i in range(2):\n",
    "    in_path = os.listdir('/home/fractaluser/Desktop/test/voice-classification-master/audioInputs2/wav{}'.format(i))\n",
    "    if not os.path.exists(r'''/home/fractaluser/Desktop/test/voice-classification-master/audioInputs2/wavs{}'''.format(i)):\n",
    "        os.makedirs(r'''/home/fractaluser/Desktop/test/voice-classification-master/audioInputs2/wavs{}'''.format(i))    \n",
    "    for z in in_path:\n",
    "        r = '/home/fractaluser/Desktop/test/voice-classification-master/audioInputs2/wav{}/'.format(i)+z  \n",
    "        out_path = '/home/fractaluser/Desktop/test/voice-classification-master/audioInputs2/wavs{}/out%03d{}'.format(i,z)\n",
    "        subprocess.call(['ffmpeg', '-i', r, '-f', 'segment','-segment_time', '5', '-c', 'copy', out_path])"
   ]
  },
  {
   "cell_type": "code",
   "execution_count": 67,
   "metadata": {},
   "outputs": [],
   "source": []
  },
  {
   "cell_type": "code",
   "execution_count": 4,
   "metadata": {},
   "outputs": [
    {
     "name": "stderr",
     "output_type": "stream",
     "text": [
      "/usr/local/lib/python2.7/dist-packages/h5py/__init__.py:36: FutureWarning: Conversion of the second argument of issubdtype from `float` to `np.floating` is deprecated. In future, it will be treated as `np.float64 == np.dtype(float).type`.\n",
      "  from ._conv import register_converters as _register_converters\n"
     ]
    }
   ],
   "source": [
    "import glob\n",
    "import os\n",
    "import librosa\n",
    "import numpy as np\n",
    "import matplotlib.pyplot as plt\n",
    "import tensorflow as tf\n",
    "from matplotlib.pyplot import specgram"
   ]
  },
  {
   "cell_type": "code",
   "execution_count": 5,
   "metadata": {},
   "outputs": [],
   "source": [
    "def load_sound_files(file_paths):\n",
    "    raw_sounds = []\n",
    "    for fp in file_paths:\n",
    "        X,sr = librosa.load(fp)\n",
    "        raw_sounds.append(X)\n",
    "    return raw_sounds\n",
    "\n",
    "\n",
    "def plot_specgram(raw_sounds):\n",
    "#     fig = plt.figure()\n",
    "#     fig.subplots_adjust(left=0,right=1,bottom=0,top=1)\n",
    "    for f in raw_sounds:\n",
    "        plt.subplots(1)\n",
    "#         plt.subplots_adjust(left=0,right=1,bottom=0,top=1)\n",
    "#         plt.margins(x=0)\n",
    "        specgram(np.array(f), Fs=sr)\n",
    "#         plt.axis('tight')\n",
    "        plt.axis('off')\n",
    "#         plt.show()\n",
    "        plt.savefig(\"test.png\", bbox_inches='tight')"
   ]
  },
  {
   "cell_type": "code",
   "execution_count": 6,
   "metadata": {},
   "outputs": [],
   "source": [
    "#Spectrogram of 5 sec wav files\n",
    "import subprocess\n",
    "#import sox\n",
    "# 513 800 3\n",
    "#change the range(10)\n",
    "for i in range(2):\n",
    "    files = os.listdir(r'''/home/fractaluser/Desktop/test/voice-classification-master/audioInputs2/wavs{}'''.format(i))\n",
    "    \n",
    "    if not os.path.exists(r'''/home/fractaluser/Desktop/test/voice-classification-master/audioInputs2/speaker{}'''.format(i)):\n",
    "        os.makedirs(r'''/home/fractaluser/Desktop/test/voice-classification-master/audioInputs2/speaker{}'''.format(i))\n",
    "    \n",
    "    count = 1\n",
    "    for f in files:\n",
    "        cmdstring = 'sox \"{}\" -n spectrogram -r -o \"{}\"'.format(r'''/home/fractaluser/Desktop/test/voice-classification-master/audioInputs2/wavs{}/{}'''.format(i, f), r'''/home/fractaluser/Desktop/test/voice-classification-master/audioInputs2/speaker{}/{}.png'''.format(i, count))\n",
    "        subprocess.call(cmdstring, shell=True)\n",
    "        count = count + 1"
   ]
  },
  {
   "cell_type": "code",
   "execution_count": 58,
   "metadata": {},
   "outputs": [
    {
     "name": "stdout",
     "output_type": "stream",
     "text": [
      "['celebratedcrimesv7p2_01_dumas_64kb.mp3', 'celebratedcrimesv7p2_04_dumas_64kb.mp3', 'celebratedcrimesv7p2_02_dumas_64kb.mp3', 'celebratedcrimesv7p2_03_dumas_64kb.mp3']\n",
      "celebratedcrimesv7p2_01_dumas_64kb.mp3\n",
      "celebratedcrimesv7p2_04_dumas_64kb.mp3\n",
      "celebratedcrimesv7p2_02_dumas_64kb.mp3\n",
      "celebratedcrimesv7p2_03_dumas_64kb.mp3\n",
      "['rubaiyatmiscellany2_09_various_64kb.mp3', 'rubaiyatmiscellany2_06_various_64kb.mp3', 'rubaiyatmiscellany2_04_various_64kb.mp3', 'rubaiyatmiscellany2_02_various_64kb.mp3', 'rubaiyatmiscellany2_05_various_64kb.mp3', 'rubaiyatmiscellany2_07_various_64kb.mp3', 'rubaiyatmiscellany2_10_various_64kb.mp3', 'rubaiyatmiscellany2_03_various_64kb.mp3', 'rubaiyatmiscellany2_08_various_64kb.mp3', 'rubaiyatmiscellany2_01_various_64kb.mp3']\n",
      "rubaiyatmiscellany2_09_various_64kb.mp3\n",
      "rubaiyatmiscellany2_06_various_64kb.mp3\n",
      "rubaiyatmiscellany2_04_various_64kb.mp3\n",
      "rubaiyatmiscellany2_02_various_64kb.mp3\n",
      "rubaiyatmiscellany2_05_various_64kb.mp3\n",
      "rubaiyatmiscellany2_07_various_64kb.mp3\n",
      "rubaiyatmiscellany2_10_various_64kb.mp3\n",
      "rubaiyatmiscellany2_03_various_64kb.mp3\n",
      "rubaiyatmiscellany2_08_various_64kb.mp3\n",
      "rubaiyatmiscellany2_01_various_64kb.mp3\n"
     ]
    }
   ],
   "source": [
    "#for i in range(2):\n",
    "#    files = os.listdir(r'''/home/fractaluser/Desktop/test/voice-classification-master/audioInputs/audio{}'''.format(i))\n",
    "#    print(files)\n",
    "#    for f in files:\n",
    "#        print(f)"
   ]
  },
  {
   "cell_type": "code",
   "execution_count": 40,
   "metadata": {},
   "outputs": [
    {
     "name": "stdout",
     "output_type": "stream",
     "text": [
      "['celebratedcrimesv7p2_01_dumas_64kb.mp3', 'celebratedcrimesv7p2_04_dumas_64kb.mp3', 'celebratedcrimesv7p2_02_dumas_64kb.mp3', 'celebratedcrimesv7p2_03_dumas_64kb.mp3']\n"
     ]
    }
   ],
   "source": [
    "# files = os.listdir(r'''/home/fractaluser/Desktop/test/voice-classification-master/audioInputs/audio{}'''.format(i))\n",
    "# print(files)"
   ]
  },
  {
   "cell_type": "code",
   "execution_count": 70,
   "metadata": {},
   "outputs": [
    {
     "name": "stdout",
     "output_type": "stream",
     "text": [
      "4.wav\n",
      "2.wav\n",
      "9.wav\n",
      "10.wav\n",
      "1.wav\n",
      "8.wav\n",
      "3.wav\n",
      "7.wav\n",
      "6.wav\n",
      "5.wav\n"
     ]
    }
   ],
   "source": [
    "# in_path = os.listdir('/home/fractaluser/Desktop/test/voice-classification-master/audioInputs/wav{}'.format(i))\n",
    "# for f in in_path:\n",
    "#     print(f)"
   ]
  },
  {
   "cell_type": "code",
   "execution_count": 63,
   "metadata": {},
   "outputs": [
    {
     "name": "stdout",
     "output_type": "stream",
     "text": [
      "/home/fractaluser/Desktop/test/voice-classification-master/audioInputs/wavs1/out%03d.wav\n"
     ]
    }
   ],
   "source": [
    "# out_path = '/home/fractaluser/Desktop/test/voice-classification-master/audioInputs/wavs{}/out%03d.wav'.format(i)\n",
    "# print(out_path)"
   ]
  },
  {
   "cell_type": "code",
   "execution_count": null,
   "metadata": {},
   "outputs": [],
   "source": []
  }
 ],
 "metadata": {
  "kernelspec": {
   "display_name": "Python 2",
   "language": "python",
   "name": "python2"
  },
  "language_info": {
   "codemirror_mode": {
    "name": "ipython",
    "version": 2
   },
   "file_extension": ".py",
   "mimetype": "text/x-python",
   "name": "python",
   "nbconvert_exporter": "python",
   "pygments_lexer": "ipython2",
   "version": "2.7.12"
  }
 },
 "nbformat": 4,
 "nbformat_minor": 2
}
